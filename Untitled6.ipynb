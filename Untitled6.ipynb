{
 "cells": [
  {
   "cell_type": "code",
   "execution_count": null,
   "id": "a39323fd-5f08-49f5-9ee9-eeddf206b514",
   "metadata": {},
   "outputs": [],
   "source": [
    "Project 1\n",
    "Model Evaluation: Predicting the insurance claims using the Insurance dataset"
   ]
  },
  {
   "cell_type": "code",
   "execution_count": 370,
   "id": "958f8b7e-1a72-4a09-a564-7991b7345f8f",
   "metadata": {},
   "outputs": [],
   "source": [
    "import pandas as pd\n",
    "import seaborn as sns\n",
    "import matplotlib.pyplot as plt"
   ]
  },
  {
   "cell_type": "code",
   "execution_count": 480,
   "id": "98956e81-3123-470a-8c88-7206b5619ac2",
   "metadata": {},
   "outputs": [],
   "source": [
    "data=pd.read_csv(\"C:/Users/Student/Downloads/Insurance (1).csv\")"
   ]
  },
  {
   "cell_type": "code",
   "execution_count": 482,
   "id": "fc81868f-6f66-4712-83a4-7c90b2b346e0",
   "metadata": {},
   "outputs": [
    {
     "data": {
      "text/html": [
       "<div>\n",
       "<style scoped>\n",
       "    .dataframe tbody tr th:only-of-type {\n",
       "        vertical-align: middle;\n",
       "    }\n",
       "\n",
       "    .dataframe tbody tr th {\n",
       "        vertical-align: top;\n",
       "    }\n",
       "\n",
       "    .dataframe thead th {\n",
       "        text-align: right;\n",
       "    }\n",
       "</style>\n",
       "<table border=\"1\" class=\"dataframe\">\n",
       "  <thead>\n",
       "    <tr style=\"text-align: right;\">\n",
       "      <th></th>\n",
       "      <th>age</th>\n",
       "      <th>sex</th>\n",
       "      <th>bmi</th>\n",
       "      <th>children</th>\n",
       "      <th>smoker</th>\n",
       "      <th>region</th>\n",
       "      <th>charges</th>\n",
       "      <th>insuranceclaim</th>\n",
       "    </tr>\n",
       "  </thead>\n",
       "  <tbody>\n",
       "    <tr>\n",
       "      <th>0</th>\n",
       "      <td>19</td>\n",
       "      <td>0</td>\n",
       "      <td>27.900</td>\n",
       "      <td>0</td>\n",
       "      <td>1</td>\n",
       "      <td>3</td>\n",
       "      <td>16884.92400</td>\n",
       "      <td>1</td>\n",
       "    </tr>\n",
       "    <tr>\n",
       "      <th>1</th>\n",
       "      <td>18</td>\n",
       "      <td>1</td>\n",
       "      <td>33.770</td>\n",
       "      <td>1</td>\n",
       "      <td>0</td>\n",
       "      <td>2</td>\n",
       "      <td>1725.55230</td>\n",
       "      <td>1</td>\n",
       "    </tr>\n",
       "    <tr>\n",
       "      <th>2</th>\n",
       "      <td>28</td>\n",
       "      <td>1</td>\n",
       "      <td>33.000</td>\n",
       "      <td>3</td>\n",
       "      <td>0</td>\n",
       "      <td>2</td>\n",
       "      <td>4449.46200</td>\n",
       "      <td>0</td>\n",
       "    </tr>\n",
       "    <tr>\n",
       "      <th>3</th>\n",
       "      <td>33</td>\n",
       "      <td>1</td>\n",
       "      <td>22.705</td>\n",
       "      <td>0</td>\n",
       "      <td>0</td>\n",
       "      <td>1</td>\n",
       "      <td>21984.47061</td>\n",
       "      <td>0</td>\n",
       "    </tr>\n",
       "    <tr>\n",
       "      <th>4</th>\n",
       "      <td>32</td>\n",
       "      <td>1</td>\n",
       "      <td>28.880</td>\n",
       "      <td>0</td>\n",
       "      <td>0</td>\n",
       "      <td>1</td>\n",
       "      <td>3866.85520</td>\n",
       "      <td>1</td>\n",
       "    </tr>\n",
       "  </tbody>\n",
       "</table>\n",
       "</div>"
      ],
      "text/plain": [
       "   age  sex     bmi  children  smoker  region      charges  insuranceclaim\n",
       "0   19    0  27.900         0       1       3  16884.92400               1\n",
       "1   18    1  33.770         1       0       2   1725.55230               1\n",
       "2   28    1  33.000         3       0       2   4449.46200               0\n",
       "3   33    1  22.705         0       0       1  21984.47061               0\n",
       "4   32    1  28.880         0       0       1   3866.85520               1"
      ]
     },
     "execution_count": 482,
     "metadata": {},
     "output_type": "execute_result"
    }
   ],
   "source": [
    "data.head()"
   ]
  },
  {
   "cell_type": "code",
   "execution_count": 484,
   "id": "4caa7623-cd88-4882-ba14-2640b77dcd5a",
   "metadata": {},
   "outputs": [
    {
     "data": {
      "text/html": [
       "<div>\n",
       "<style scoped>\n",
       "    .dataframe tbody tr th:only-of-type {\n",
       "        vertical-align: middle;\n",
       "    }\n",
       "\n",
       "    .dataframe tbody tr th {\n",
       "        vertical-align: top;\n",
       "    }\n",
       "\n",
       "    .dataframe thead th {\n",
       "        text-align: right;\n",
       "    }\n",
       "</style>\n",
       "<table border=\"1\" class=\"dataframe\">\n",
       "  <thead>\n",
       "    <tr style=\"text-align: right;\">\n",
       "      <th></th>\n",
       "      <th>age</th>\n",
       "      <th>sex</th>\n",
       "      <th>bmi</th>\n",
       "      <th>children</th>\n",
       "      <th>smoker</th>\n",
       "      <th>region</th>\n",
       "      <th>charges</th>\n",
       "      <th>insuranceclaim</th>\n",
       "    </tr>\n",
       "  </thead>\n",
       "  <tbody>\n",
       "    <tr>\n",
       "      <th>1333</th>\n",
       "      <td>50</td>\n",
       "      <td>1</td>\n",
       "      <td>30.97</td>\n",
       "      <td>3</td>\n",
       "      <td>0</td>\n",
       "      <td>1</td>\n",
       "      <td>10600.5483</td>\n",
       "      <td>0</td>\n",
       "    </tr>\n",
       "    <tr>\n",
       "      <th>1334</th>\n",
       "      <td>18</td>\n",
       "      <td>0</td>\n",
       "      <td>31.92</td>\n",
       "      <td>0</td>\n",
       "      <td>0</td>\n",
       "      <td>0</td>\n",
       "      <td>2205.9808</td>\n",
       "      <td>1</td>\n",
       "    </tr>\n",
       "    <tr>\n",
       "      <th>1335</th>\n",
       "      <td>18</td>\n",
       "      <td>0</td>\n",
       "      <td>36.85</td>\n",
       "      <td>0</td>\n",
       "      <td>0</td>\n",
       "      <td>2</td>\n",
       "      <td>1629.8335</td>\n",
       "      <td>1</td>\n",
       "    </tr>\n",
       "    <tr>\n",
       "      <th>1336</th>\n",
       "      <td>21</td>\n",
       "      <td>0</td>\n",
       "      <td>25.80</td>\n",
       "      <td>0</td>\n",
       "      <td>0</td>\n",
       "      <td>3</td>\n",
       "      <td>2007.9450</td>\n",
       "      <td>0</td>\n",
       "    </tr>\n",
       "    <tr>\n",
       "      <th>1337</th>\n",
       "      <td>61</td>\n",
       "      <td>0</td>\n",
       "      <td>29.07</td>\n",
       "      <td>0</td>\n",
       "      <td>1</td>\n",
       "      <td>1</td>\n",
       "      <td>29141.3603</td>\n",
       "      <td>1</td>\n",
       "    </tr>\n",
       "  </tbody>\n",
       "</table>\n",
       "</div>"
      ],
      "text/plain": [
       "      age  sex    bmi  children  smoker  region     charges  insuranceclaim\n",
       "1333   50    1  30.97         3       0       1  10600.5483               0\n",
       "1334   18    0  31.92         0       0       0   2205.9808               1\n",
       "1335   18    0  36.85         0       0       2   1629.8335               1\n",
       "1336   21    0  25.80         0       0       3   2007.9450               0\n",
       "1337   61    0  29.07         0       1       1  29141.3603               1"
      ]
     },
     "execution_count": 484,
     "metadata": {},
     "output_type": "execute_result"
    }
   ],
   "source": [
    "data.tail()"
   ]
  },
  {
   "cell_type": "code",
   "execution_count": 486,
   "id": "ca5d17f4-b51a-4846-98b2-c43d8f97ca11",
   "metadata": {},
   "outputs": [
    {
     "data": {
      "text/plain": [
       "(1338, 8)"
      ]
     },
     "execution_count": 486,
     "metadata": {},
     "output_type": "execute_result"
    }
   ],
   "source": [
    "data.shape"
   ]
  },
  {
   "cell_type": "code",
   "execution_count": 488,
   "id": "2633c825-985e-4469-92d6-ad85421e2044",
   "metadata": {},
   "outputs": [],
   "source": [
    "# Checking for null or missing values in  the data"
   ]
  },
  {
   "cell_type": "code",
   "execution_count": 490,
   "id": "56bf44d9-df1e-4c53-ae4b-0492a1aa831f",
   "metadata": {},
   "outputs": [
    {
     "data": {
      "text/plain": [
       "age               0\n",
       "sex               0\n",
       "bmi               0\n",
       "children          0\n",
       "smoker            0\n",
       "region            0\n",
       "charges           0\n",
       "insuranceclaim    0\n",
       "dtype: int64"
      ]
     },
     "execution_count": 490,
     "metadata": {},
     "output_type": "execute_result"
    }
   ],
   "source": [
    "data.isnull().sum()"
   ]
  },
  {
   "cell_type": "code",
   "execution_count": 492,
   "id": "a0115351-c25a-4462-8a08-7b7765347e93",
   "metadata": {},
   "outputs": [],
   "source": [
    "# Checking for duplicates within the data"
   ]
  },
  {
   "cell_type": "code",
   "execution_count": 494,
   "id": "b17840e9-ac52-4266-8a10-2a300146c849",
   "metadata": {},
   "outputs": [],
   "source": [
    "def check_duplicates(data):\n",
    "    return duplicated().any()"
   ]
  },
  {
   "cell_type": "code",
   "execution_count": 498,
   "id": "9dff3646-8eb0-4c4c-9d1d-3736e06fc9a3",
   "metadata": {},
   "outputs": [
    {
     "data": {
      "text/html": [
       "<div>\n",
       "<style scoped>\n",
       "    .dataframe tbody tr th:only-of-type {\n",
       "        vertical-align: middle;\n",
       "    }\n",
       "\n",
       "    .dataframe tbody tr th {\n",
       "        vertical-align: top;\n",
       "    }\n",
       "\n",
       "    .dataframe thead th {\n",
       "        text-align: right;\n",
       "    }\n",
       "</style>\n",
       "<table border=\"1\" class=\"dataframe\">\n",
       "  <thead>\n",
       "    <tr style=\"text-align: right;\">\n",
       "      <th></th>\n",
       "      <th>age</th>\n",
       "      <th>sex</th>\n",
       "      <th>bmi</th>\n",
       "      <th>children</th>\n",
       "      <th>smoker</th>\n",
       "      <th>region</th>\n",
       "      <th>charges</th>\n",
       "      <th>insuranceclaim</th>\n",
       "    </tr>\n",
       "  </thead>\n",
       "  <tbody>\n",
       "    <tr>\n",
       "      <th>count</th>\n",
       "      <td>1338.000000</td>\n",
       "      <td>1338.000000</td>\n",
       "      <td>1338.000000</td>\n",
       "      <td>1338.000000</td>\n",
       "      <td>1338.000000</td>\n",
       "      <td>1338.000000</td>\n",
       "      <td>1338.000000</td>\n",
       "      <td>1338.000000</td>\n",
       "    </tr>\n",
       "    <tr>\n",
       "      <th>mean</th>\n",
       "      <td>39.207025</td>\n",
       "      <td>0.505232</td>\n",
       "      <td>30.663397</td>\n",
       "      <td>1.094918</td>\n",
       "      <td>0.204783</td>\n",
       "      <td>1.515695</td>\n",
       "      <td>13270.422265</td>\n",
       "      <td>0.585202</td>\n",
       "    </tr>\n",
       "    <tr>\n",
       "      <th>std</th>\n",
       "      <td>14.049960</td>\n",
       "      <td>0.500160</td>\n",
       "      <td>6.098187</td>\n",
       "      <td>1.205493</td>\n",
       "      <td>0.403694</td>\n",
       "      <td>1.104885</td>\n",
       "      <td>12110.011237</td>\n",
       "      <td>0.492871</td>\n",
       "    </tr>\n",
       "    <tr>\n",
       "      <th>min</th>\n",
       "      <td>18.000000</td>\n",
       "      <td>0.000000</td>\n",
       "      <td>15.960000</td>\n",
       "      <td>0.000000</td>\n",
       "      <td>0.000000</td>\n",
       "      <td>0.000000</td>\n",
       "      <td>1121.873900</td>\n",
       "      <td>0.000000</td>\n",
       "    </tr>\n",
       "    <tr>\n",
       "      <th>25%</th>\n",
       "      <td>27.000000</td>\n",
       "      <td>0.000000</td>\n",
       "      <td>26.296250</td>\n",
       "      <td>0.000000</td>\n",
       "      <td>0.000000</td>\n",
       "      <td>1.000000</td>\n",
       "      <td>4740.287150</td>\n",
       "      <td>0.000000</td>\n",
       "    </tr>\n",
       "    <tr>\n",
       "      <th>50%</th>\n",
       "      <td>39.000000</td>\n",
       "      <td>1.000000</td>\n",
       "      <td>30.400000</td>\n",
       "      <td>1.000000</td>\n",
       "      <td>0.000000</td>\n",
       "      <td>2.000000</td>\n",
       "      <td>9382.033000</td>\n",
       "      <td>1.000000</td>\n",
       "    </tr>\n",
       "    <tr>\n",
       "      <th>75%</th>\n",
       "      <td>51.000000</td>\n",
       "      <td>1.000000</td>\n",
       "      <td>34.693750</td>\n",
       "      <td>2.000000</td>\n",
       "      <td>0.000000</td>\n",
       "      <td>2.000000</td>\n",
       "      <td>16639.912515</td>\n",
       "      <td>1.000000</td>\n",
       "    </tr>\n",
       "    <tr>\n",
       "      <th>max</th>\n",
       "      <td>64.000000</td>\n",
       "      <td>1.000000</td>\n",
       "      <td>53.130000</td>\n",
       "      <td>5.000000</td>\n",
       "      <td>1.000000</td>\n",
       "      <td>3.000000</td>\n",
       "      <td>63770.428010</td>\n",
       "      <td>1.000000</td>\n",
       "    </tr>\n",
       "  </tbody>\n",
       "</table>\n",
       "</div>"
      ],
      "text/plain": [
       "               age          sex          bmi     children       smoker  \\\n",
       "count  1338.000000  1338.000000  1338.000000  1338.000000  1338.000000   \n",
       "mean     39.207025     0.505232    30.663397     1.094918     0.204783   \n",
       "std      14.049960     0.500160     6.098187     1.205493     0.403694   \n",
       "min      18.000000     0.000000    15.960000     0.000000     0.000000   \n",
       "25%      27.000000     0.000000    26.296250     0.000000     0.000000   \n",
       "50%      39.000000     1.000000    30.400000     1.000000     0.000000   \n",
       "75%      51.000000     1.000000    34.693750     2.000000     0.000000   \n",
       "max      64.000000     1.000000    53.130000     5.000000     1.000000   \n",
       "\n",
       "            region       charges  insuranceclaim  \n",
       "count  1338.000000   1338.000000     1338.000000  \n",
       "mean      1.515695  13270.422265        0.585202  \n",
       "std       1.104885  12110.011237        0.492871  \n",
       "min       0.000000   1121.873900        0.000000  \n",
       "25%       1.000000   4740.287150        0.000000  \n",
       "50%       2.000000   9382.033000        1.000000  \n",
       "75%       2.000000  16639.912515        1.000000  \n",
       "max       3.000000  63770.428010        1.000000  "
      ]
     },
     "execution_count": 498,
     "metadata": {},
     "output_type": "execute_result"
    }
   ],
   "source": [
    "data.describe()"
   ]
  },
  {
   "cell_type": "code",
   "execution_count": 502,
   "id": "8bb87a0e-a8bd-49c5-bc19-a8130385762b",
   "metadata": {},
   "outputs": [],
   "source": [
    "df=data.drop([\"region\"], axis=1)"
   ]
  },
  {
   "cell_type": "code",
   "execution_count": 504,
   "id": "8f5cea75-94e7-4ada-b9a8-2c10fc5a34c8",
   "metadata": {},
   "outputs": [
    {
     "data": {
      "text/html": [
       "<div>\n",
       "<style scoped>\n",
       "    .dataframe tbody tr th:only-of-type {\n",
       "        vertical-align: middle;\n",
       "    }\n",
       "\n",
       "    .dataframe tbody tr th {\n",
       "        vertical-align: top;\n",
       "    }\n",
       "\n",
       "    .dataframe thead th {\n",
       "        text-align: right;\n",
       "    }\n",
       "</style>\n",
       "<table border=\"1\" class=\"dataframe\">\n",
       "  <thead>\n",
       "    <tr style=\"text-align: right;\">\n",
       "      <th></th>\n",
       "      <th>age</th>\n",
       "      <th>sex</th>\n",
       "      <th>bmi</th>\n",
       "      <th>children</th>\n",
       "      <th>smoker</th>\n",
       "      <th>charges</th>\n",
       "      <th>insuranceclaim</th>\n",
       "    </tr>\n",
       "  </thead>\n",
       "  <tbody>\n",
       "    <tr>\n",
       "      <th>0</th>\n",
       "      <td>19</td>\n",
       "      <td>0</td>\n",
       "      <td>27.900</td>\n",
       "      <td>0</td>\n",
       "      <td>1</td>\n",
       "      <td>16884.92400</td>\n",
       "      <td>1</td>\n",
       "    </tr>\n",
       "    <tr>\n",
       "      <th>1</th>\n",
       "      <td>18</td>\n",
       "      <td>1</td>\n",
       "      <td>33.770</td>\n",
       "      <td>1</td>\n",
       "      <td>0</td>\n",
       "      <td>1725.55230</td>\n",
       "      <td>1</td>\n",
       "    </tr>\n",
       "    <tr>\n",
       "      <th>2</th>\n",
       "      <td>28</td>\n",
       "      <td>1</td>\n",
       "      <td>33.000</td>\n",
       "      <td>3</td>\n",
       "      <td>0</td>\n",
       "      <td>4449.46200</td>\n",
       "      <td>0</td>\n",
       "    </tr>\n",
       "    <tr>\n",
       "      <th>3</th>\n",
       "      <td>33</td>\n",
       "      <td>1</td>\n",
       "      <td>22.705</td>\n",
       "      <td>0</td>\n",
       "      <td>0</td>\n",
       "      <td>21984.47061</td>\n",
       "      <td>0</td>\n",
       "    </tr>\n",
       "    <tr>\n",
       "      <th>4</th>\n",
       "      <td>32</td>\n",
       "      <td>1</td>\n",
       "      <td>28.880</td>\n",
       "      <td>0</td>\n",
       "      <td>0</td>\n",
       "      <td>3866.85520</td>\n",
       "      <td>1</td>\n",
       "    </tr>\n",
       "    <tr>\n",
       "      <th>...</th>\n",
       "      <td>...</td>\n",
       "      <td>...</td>\n",
       "      <td>...</td>\n",
       "      <td>...</td>\n",
       "      <td>...</td>\n",
       "      <td>...</td>\n",
       "      <td>...</td>\n",
       "    </tr>\n",
       "    <tr>\n",
       "      <th>1333</th>\n",
       "      <td>50</td>\n",
       "      <td>1</td>\n",
       "      <td>30.970</td>\n",
       "      <td>3</td>\n",
       "      <td>0</td>\n",
       "      <td>10600.54830</td>\n",
       "      <td>0</td>\n",
       "    </tr>\n",
       "    <tr>\n",
       "      <th>1334</th>\n",
       "      <td>18</td>\n",
       "      <td>0</td>\n",
       "      <td>31.920</td>\n",
       "      <td>0</td>\n",
       "      <td>0</td>\n",
       "      <td>2205.98080</td>\n",
       "      <td>1</td>\n",
       "    </tr>\n",
       "    <tr>\n",
       "      <th>1335</th>\n",
       "      <td>18</td>\n",
       "      <td>0</td>\n",
       "      <td>36.850</td>\n",
       "      <td>0</td>\n",
       "      <td>0</td>\n",
       "      <td>1629.83350</td>\n",
       "      <td>1</td>\n",
       "    </tr>\n",
       "    <tr>\n",
       "      <th>1336</th>\n",
       "      <td>21</td>\n",
       "      <td>0</td>\n",
       "      <td>25.800</td>\n",
       "      <td>0</td>\n",
       "      <td>0</td>\n",
       "      <td>2007.94500</td>\n",
       "      <td>0</td>\n",
       "    </tr>\n",
       "    <tr>\n",
       "      <th>1337</th>\n",
       "      <td>61</td>\n",
       "      <td>0</td>\n",
       "      <td>29.070</td>\n",
       "      <td>0</td>\n",
       "      <td>1</td>\n",
       "      <td>29141.36030</td>\n",
       "      <td>1</td>\n",
       "    </tr>\n",
       "  </tbody>\n",
       "</table>\n",
       "<p>1338 rows × 7 columns</p>\n",
       "</div>"
      ],
      "text/plain": [
       "      age  sex     bmi  children  smoker      charges  insuranceclaim\n",
       "0      19    0  27.900         0       1  16884.92400               1\n",
       "1      18    1  33.770         1       0   1725.55230               1\n",
       "2      28    1  33.000         3       0   4449.46200               0\n",
       "3      33    1  22.705         0       0  21984.47061               0\n",
       "4      32    1  28.880         0       0   3866.85520               1\n",
       "...   ...  ...     ...       ...     ...          ...             ...\n",
       "1333   50    1  30.970         3       0  10600.54830               0\n",
       "1334   18    0  31.920         0       0   2205.98080               1\n",
       "1335   18    0  36.850         0       0   1629.83350               1\n",
       "1336   21    0  25.800         0       0   2007.94500               0\n",
       "1337   61    0  29.070         0       1  29141.36030               1\n",
       "\n",
       "[1338 rows x 7 columns]"
      ]
     },
     "execution_count": 504,
     "metadata": {},
     "output_type": "execute_result"
    }
   ],
   "source": [
    "df"
   ]
  },
  {
   "cell_type": "code",
   "execution_count": 506,
   "id": "bbe53dab-ff2d-47ab-814e-628f9af382b8",
   "metadata": {},
   "outputs": [],
   "source": [
    "# Checking for outliers and handling them "
   ]
  },
  {
   "cell_type": "code",
   "execution_count": 508,
   "id": "e9b80b17-b8d7-4cab-b86d-cafad8d086bd",
   "metadata": {},
   "outputs": [
    {
     "data": {
      "image/png": "[encoded data removed]",
      "text/plain": [
       "<Figure size 640x480 with 1 Axes>"
      ]
     },
     "metadata": {},
     "output_type": "display_data"
    }
   ],
   "source": [
    "import seaborn as sns\n",
    "sns.boxplot(y=df[\"charges\"])\n",
    "plt.show()"
   ]
  },
  {
   "cell_type": "code",
   "execution_count": 510,
   "id": "3d57be0d-2b99-417d-be61-add4247e0e8e",
   "metadata": {},
   "outputs": [],
   "source": [
    "import numpy as np"
   ]
  },
  {
   "cell_type": "code",
   "execution_count": 512,
   "id": "9e4355ac-ad10-4ebb-9516-582949896c56",
   "metadata": {},
   "outputs": [],
   "source": [
    "Q1=np.percentile(df[\"charges\"],25, interpolation=\"midpoint\")\n",
    "Q3=np.percentile(df[\"charges\"],75, interpolation=\"midpoint\")"
   ]
  },
  {
   "cell_type": "code",
   "execution_count": 514,
   "id": "9fbcadab-ef8c-46aa-bb47-d7590cf591bf",
   "metadata": {},
   "outputs": [],
   "source": [
    "IQR = Q3-Q1"
   ]
  },
  {
   "cell_type": "code",
   "execution_count": 516,
   "id": "a2b94804-eded-47ec-9ac6-b9da29f67146",
   "metadata": {},
   "outputs": [],
   "source": [
    "lowerbound = Q1-1.5*IQR\n",
    "upperbound =Q1+1.5*IQR"
   ]
  },
  {
   "cell_type": "code",
   "execution_count": 518,
   "id": "6e178ef7-ae80-40ba-86d2-20aff9b04461",
   "metadata": {},
   "outputs": [],
   "source": [
    "df= df[(df.charges< upperbound) & (df.charges> lowerbound)]"
   ]
  },
  {
   "cell_type": "code",
   "execution_count": 520,
   "id": "36ac2bac-daa8-4015-9320-ebd56eed52b7",
   "metadata": {},
   "outputs": [],
   "source": [
    "# The number of rows and columns after outliers have been handled"
   ]
  },
  {
   "cell_type": "code",
   "execution_count": 522,
   "id": "2d0b56bc-6a00-4b58-a6fe-edbac5603ffd",
   "metadata": {},
   "outputs": [
    {
     "data": {
      "image/png": "[encoded data removed]",
      "text/plain": [
       "<Figure size 640x480 with 1 Axes>"
      ]
     },
     "metadata": {},
     "output_type": "display_data"
    }
   ],
   "source": [
    "import seaborn as sns\n",
    "sns.boxplot(y=df[\"bmi\"])\n",
    "plt.show()"
   ]
  },
  {
   "cell_type": "code",
   "execution_count": 524,
   "id": "cf93b493-6b0a-4896-bf70-009db8270e8c",
   "metadata": {},
   "outputs": [],
   "source": [
    "import numpy as np"
   ]
  },
  {
   "cell_type": "code",
   "execution_count": 526,
   "id": "3424c9cb-e868-4571-abc8-d494d097fa2c",
   "metadata": {},
   "outputs": [],
   "source": [
    "Q1=np.percentile(df[\"bmi\"],25, interpolation=\"midpoint\")\n",
    "Q3=np.percentile(df[\"bmi\"],75, interpolation=\"midpoint\")"
   ]
  },
  {
   "cell_type": "code",
   "execution_count": 528,
   "id": "5056c79d-44a0-4166-8112-0adc5c4b3b8b",
   "metadata": {},
   "outputs": [],
   "source": [
    "IQR = Q3-Q1"
   ]
  },
  {
   "cell_type": "code",
   "execution_count": 530,
   "id": "13e87e16-bb64-442c-8c43-77c7ee193243",
   "metadata": {},
   "outputs": [],
   "source": [
    "lowerbound = Q1-1.5*IQR\n",
    "upperbound =Q1+1.5*IQR"
   ]
  },
  {
   "cell_type": "code",
   "execution_count": 532,
   "id": "d30ee9d9-0fd8-4851-8e99-06b5eefb766a",
   "metadata": {},
   "outputs": [],
   "source": [
    "df= df[(df.bmi< upperbound) & (df.bmi> lowerbound)]"
   ]
  },
  {
   "cell_type": "code",
   "execution_count": 534,
   "id": "2a93b194-5cbf-4c1d-b1a9-d29aa17332f1",
   "metadata": {},
   "outputs": [
    {
     "data": {
      "text/plain": [
       "(992, 7)"
      ]
     },
     "execution_count": 534,
     "metadata": {},
     "output_type": "execute_result"
    }
   ],
   "source": [
    "df.shape"
   ]
  },
  {
   "cell_type": "code",
   "execution_count": 536,
   "id": "e28ed8ce-cb73-42fd-ac1f-d864026d6d98",
   "metadata": {},
   "outputs": [
    {
     "data": {
      "image/png": "[encoded data removed]",
      "text/plain": [
       "<Figure size 640x480 with 1 Axes>"
      ]
     },
     "metadata": {},
     "output_type": "display_data"
    }
   ],
   "source": [
    "data[\"charges_log\"]=np.log(df[\"charges\"])\n",
    "plt.hist(data[\"charges_log\"], bins=20 ,color=\"blue\", edgecolor=\"black\")\n",
    "plt.xlabel(\"charges_log\")\n",
    "plt.ylabel(\"frequency\")\n",
    "plt.show()"
   ]
  },
  {
   "cell_type": "code",
   "execution_count": 538,
   "id": "e3f53fbd-957f-4281-a165-9c677545f3ab",
   "metadata": {},
   "outputs": [
    {
     "data": {
      "text/plain": [
       "(992, 7)"
      ]
     },
     "execution_count": 538,
     "metadata": {},
     "output_type": "execute_result"
    }
   ],
   "source": [
    "df.shape"
   ]
  },
  {
   "cell_type": "code",
   "execution_count": 540,
   "id": "796188b7-e345-421c-8950-9f72821a4f35",
   "metadata": {},
   "outputs": [
    {
     "name": "stdout",
     "output_type": "stream",
     "text": [
      "<class 'pandas.core.frame.DataFrame'>\n",
      "Index: 992 entries, 0 to 1336\n",
      "Data columns (total 7 columns):\n",
      " #   Column          Non-Null Count  Dtype  \n",
      "---  ------          --------------  -----  \n",
      " 0   age             992 non-null    int64  \n",
      " 1   sex             992 non-null    int64  \n",
      " 2   bmi             992 non-null    float64\n",
      " 3   children        992 non-null    int64  \n",
      " 4   smoker          992 non-null    int64  \n",
      " 5   charges         992 non-null    float64\n",
      " 6   insuranceclaim  992 non-null    int64  \n",
      "dtypes: float64(2), int64(5)\n",
      "memory usage: 94.3 KB\n"
     ]
    }
   ],
   "source": [
    "df.info()"
   ]
  },
  {
   "cell_type": "code",
   "execution_count": 542,
   "id": "29848c71-0a46-4682-b869-efebf844a278",
   "metadata": {},
   "outputs": [],
   "source": [
    "# Identifying the categorical variables and converting them to numeric varibales by OneHotEncoder"
   ]
  },
  {
   "cell_type": "code",
   "execution_count": 544,
   "id": "018bf0c3-3abf-4711-9023-3fe45c5e46ec",
   "metadata": {},
   "outputs": [],
   "source": [
    "cat_col=df.select_dtypes('object').columns.tolist()"
   ]
  },
  {
   "cell_type": "code",
   "execution_count": 546,
   "id": "7e3428d4-f345-43eb-b715-bbabfd7e6e03",
   "metadata": {},
   "outputs": [
    {
     "data": {
      "text/plain": [
       "[]"
      ]
     },
     "execution_count": 546,
     "metadata": {},
     "output_type": "execute_result"
    }
   ],
   "source": [
    "cat_col"
   ]
  },
  {
   "cell_type": "code",
   "execution_count": 548,
   "id": "d24537e8-d99e-46ff-a073-b686fa239e2f",
   "metadata": {},
   "outputs": [
    {
     "data": {
      "text/plain": [
       "array([], shape=(992, 0), dtype=float64)"
      ]
     },
     "execution_count": 548,
     "metadata": {},
     "output_type": "execute_result"
    }
   ],
   "source": [
    "from sklearn.preprocessing import OneHotEncoder\n",
    "encoder=OneHotEncoder(sparse_output= False ,handle_unknown='ignore')\n",
    "encoder.fit_transform(df[cat_col])"
   ]
  },
  {
   "cell_type": "code",
   "execution_count": 550,
   "id": "cedb881c-0939-4948-91c5-e177622157a8",
   "metadata": {},
   "outputs": [],
   "source": [
    "encoded_cols = encoder.get_feature_names_out(cat_col)"
   ]
  },
  {
   "cell_type": "code",
   "execution_count": 552,
   "id": "3a7b3871-030e-4f0c-9f67-7df9867ed31a",
   "metadata": {},
   "outputs": [
    {
     "data": {
      "text/plain": [
       "array([], dtype=object)"
      ]
     },
     "execution_count": 552,
     "metadata": {},
     "output_type": "execute_result"
    }
   ],
   "source": [
    "encoded_cols"
   ]
  },
  {
   "cell_type": "code",
   "execution_count": 554,
   "id": "3ad7d8da-b81b-45f2-85e7-7ca87407ac7c",
   "metadata": {},
   "outputs": [],
   "source": [
    "df[encoded_cols] = encoder.transform(df[cat_col])"
   ]
  },
  {
   "cell_type": "code",
   "execution_count": 556,
   "id": "a90726b2-9647-4f37-8ccc-8514dfd96ad1",
   "metadata": {},
   "outputs": [
    {
     "data": {
      "text/html": [
       "<div>\n",
       "<style scoped>\n",
       "    .dataframe tbody tr th:only-of-type {\n",
       "        vertical-align: middle;\n",
       "    }\n",
       "\n",
       "    .dataframe tbody tr th {\n",
       "        vertical-align: top;\n",
       "    }\n",
       "\n",
       "    .dataframe thead th {\n",
       "        text-align: right;\n",
       "    }\n",
       "</style>\n",
       "<table border=\"1\" class=\"dataframe\">\n",
       "  <thead>\n",
       "    <tr style=\"text-align: right;\">\n",
       "      <th></th>\n",
       "      <th>age</th>\n",
       "      <th>sex</th>\n",
       "      <th>bmi</th>\n",
       "      <th>children</th>\n",
       "      <th>smoker</th>\n",
       "      <th>charges</th>\n",
       "      <th>insuranceclaim</th>\n",
       "    </tr>\n",
       "  </thead>\n",
       "  <tbody>\n",
       "    <tr>\n",
       "      <th>0</th>\n",
       "      <td>19</td>\n",
       "      <td>0</td>\n",
       "      <td>27.900</td>\n",
       "      <td>0</td>\n",
       "      <td>1</td>\n",
       "      <td>16884.92400</td>\n",
       "      <td>1</td>\n",
       "    </tr>\n",
       "    <tr>\n",
       "      <th>1</th>\n",
       "      <td>18</td>\n",
       "      <td>1</td>\n",
       "      <td>33.770</td>\n",
       "      <td>1</td>\n",
       "      <td>0</td>\n",
       "      <td>1725.55230</td>\n",
       "      <td>1</td>\n",
       "    </tr>\n",
       "    <tr>\n",
       "      <th>2</th>\n",
       "      <td>28</td>\n",
       "      <td>1</td>\n",
       "      <td>33.000</td>\n",
       "      <td>3</td>\n",
       "      <td>0</td>\n",
       "      <td>4449.46200</td>\n",
       "      <td>0</td>\n",
       "    </tr>\n",
       "    <tr>\n",
       "      <th>3</th>\n",
       "      <td>33</td>\n",
       "      <td>1</td>\n",
       "      <td>22.705</td>\n",
       "      <td>0</td>\n",
       "      <td>0</td>\n",
       "      <td>21984.47061</td>\n",
       "      <td>0</td>\n",
       "    </tr>\n",
       "    <tr>\n",
       "      <th>4</th>\n",
       "      <td>32</td>\n",
       "      <td>1</td>\n",
       "      <td>28.880</td>\n",
       "      <td>0</td>\n",
       "      <td>0</td>\n",
       "      <td>3866.85520</td>\n",
       "      <td>1</td>\n",
       "    </tr>\n",
       "    <tr>\n",
       "      <th>...</th>\n",
       "      <td>...</td>\n",
       "      <td>...</td>\n",
       "      <td>...</td>\n",
       "      <td>...</td>\n",
       "      <td>...</td>\n",
       "      <td>...</td>\n",
       "      <td>...</td>\n",
       "    </tr>\n",
       "    <tr>\n",
       "      <th>1331</th>\n",
       "      <td>23</td>\n",
       "      <td>0</td>\n",
       "      <td>33.400</td>\n",
       "      <td>0</td>\n",
       "      <td>0</td>\n",
       "      <td>10795.93733</td>\n",
       "      <td>1</td>\n",
       "    </tr>\n",
       "    <tr>\n",
       "      <th>1333</th>\n",
       "      <td>50</td>\n",
       "      <td>1</td>\n",
       "      <td>30.970</td>\n",
       "      <td>3</td>\n",
       "      <td>0</td>\n",
       "      <td>10600.54830</td>\n",
       "      <td>0</td>\n",
       "    </tr>\n",
       "    <tr>\n",
       "      <th>1334</th>\n",
       "      <td>18</td>\n",
       "      <td>0</td>\n",
       "      <td>31.920</td>\n",
       "      <td>0</td>\n",
       "      <td>0</td>\n",
       "      <td>2205.98080</td>\n",
       "      <td>1</td>\n",
       "    </tr>\n",
       "    <tr>\n",
       "      <th>1335</th>\n",
       "      <td>18</td>\n",
       "      <td>0</td>\n",
       "      <td>36.850</td>\n",
       "      <td>0</td>\n",
       "      <td>0</td>\n",
       "      <td>1629.83350</td>\n",
       "      <td>1</td>\n",
       "    </tr>\n",
       "    <tr>\n",
       "      <th>1336</th>\n",
       "      <td>21</td>\n",
       "      <td>0</td>\n",
       "      <td>25.800</td>\n",
       "      <td>0</td>\n",
       "      <td>0</td>\n",
       "      <td>2007.94500</td>\n",
       "      <td>0</td>\n",
       "    </tr>\n",
       "  </tbody>\n",
       "</table>\n",
       "<p>992 rows × 7 columns</p>\n",
       "</div>"
      ],
      "text/plain": [
       "      age  sex     bmi  children  smoker      charges  insuranceclaim\n",
       "0      19    0  27.900         0       1  16884.92400               1\n",
       "1      18    1  33.770         1       0   1725.55230               1\n",
       "2      28    1  33.000         3       0   4449.46200               0\n",
       "3      33    1  22.705         0       0  21984.47061               0\n",
       "4      32    1  28.880         0       0   3866.85520               1\n",
       "...   ...  ...     ...       ...     ...          ...             ...\n",
       "1331   23    0  33.400         0       0  10795.93733               1\n",
       "1333   50    1  30.970         3       0  10600.54830               0\n",
       "1334   18    0  31.920         0       0   2205.98080               1\n",
       "1335   18    0  36.850         0       0   1629.83350               1\n",
       "1336   21    0  25.800         0       0   2007.94500               0\n",
       "\n",
       "[992 rows x 7 columns]"
      ]
     },
     "execution_count": 556,
     "metadata": {},
     "output_type": "execute_result"
    }
   ],
   "source": [
    "df"
   ]
  },
  {
   "cell_type": "code",
   "execution_count": 558,
   "id": "d9b5b533-333e-4ed6-b3f0-8446731dc2ca",
   "metadata": {},
   "outputs": [],
   "source": [
    "df.drop(columns = cat_col, inplace=True)"
   ]
  },
  {
   "cell_type": "code",
   "execution_count": 560,
   "id": "dc1cce0c-3bb3-47e7-a8d3-0f44e0d4c8d6",
   "metadata": {},
   "outputs": [
    {
     "data": {
      "text/html": [
       "<div>\n",
       "<style scoped>\n",
       "    .dataframe tbody tr th:only-of-type {\n",
       "        vertical-align: middle;\n",
       "    }\n",
       "\n",
       "    .dataframe tbody tr th {\n",
       "        vertical-align: top;\n",
       "    }\n",
       "\n",
       "    .dataframe thead th {\n",
       "        text-align: right;\n",
       "    }\n",
       "</style>\n",
       "<table border=\"1\" class=\"dataframe\">\n",
       "  <thead>\n",
       "    <tr style=\"text-align: right;\">\n",
       "      <th></th>\n",
       "      <th>age</th>\n",
       "      <th>sex</th>\n",
       "      <th>bmi</th>\n",
       "      <th>children</th>\n",
       "      <th>smoker</th>\n",
       "      <th>charges</th>\n",
       "      <th>insuranceclaim</th>\n",
       "    </tr>\n",
       "  </thead>\n",
       "  <tbody>\n",
       "    <tr>\n",
       "      <th>0</th>\n",
       "      <td>19</td>\n",
       "      <td>0</td>\n",
       "      <td>27.900</td>\n",
       "      <td>0</td>\n",
       "      <td>1</td>\n",
       "      <td>16884.92400</td>\n",
       "      <td>1</td>\n",
       "    </tr>\n",
       "    <tr>\n",
       "      <th>1</th>\n",
       "      <td>18</td>\n",
       "      <td>1</td>\n",
       "      <td>33.770</td>\n",
       "      <td>1</td>\n",
       "      <td>0</td>\n",
       "      <td>1725.55230</td>\n",
       "      <td>1</td>\n",
       "    </tr>\n",
       "    <tr>\n",
       "      <th>2</th>\n",
       "      <td>28</td>\n",
       "      <td>1</td>\n",
       "      <td>33.000</td>\n",
       "      <td>3</td>\n",
       "      <td>0</td>\n",
       "      <td>4449.46200</td>\n",
       "      <td>0</td>\n",
       "    </tr>\n",
       "    <tr>\n",
       "      <th>3</th>\n",
       "      <td>33</td>\n",
       "      <td>1</td>\n",
       "      <td>22.705</td>\n",
       "      <td>0</td>\n",
       "      <td>0</td>\n",
       "      <td>21984.47061</td>\n",
       "      <td>0</td>\n",
       "    </tr>\n",
       "    <tr>\n",
       "      <th>4</th>\n",
       "      <td>32</td>\n",
       "      <td>1</td>\n",
       "      <td>28.880</td>\n",
       "      <td>0</td>\n",
       "      <td>0</td>\n",
       "      <td>3866.85520</td>\n",
       "      <td>1</td>\n",
       "    </tr>\n",
       "    <tr>\n",
       "      <th>...</th>\n",
       "      <td>...</td>\n",
       "      <td>...</td>\n",
       "      <td>...</td>\n",
       "      <td>...</td>\n",
       "      <td>...</td>\n",
       "      <td>...</td>\n",
       "      <td>...</td>\n",
       "    </tr>\n",
       "    <tr>\n",
       "      <th>1331</th>\n",
       "      <td>23</td>\n",
       "      <td>0</td>\n",
       "      <td>33.400</td>\n",
       "      <td>0</td>\n",
       "      <td>0</td>\n",
       "      <td>10795.93733</td>\n",
       "      <td>1</td>\n",
       "    </tr>\n",
       "    <tr>\n",
       "      <th>1333</th>\n",
       "      <td>50</td>\n",
       "      <td>1</td>\n",
       "      <td>30.970</td>\n",
       "      <td>3</td>\n",
       "      <td>0</td>\n",
       "      <td>10600.54830</td>\n",
       "      <td>0</td>\n",
       "    </tr>\n",
       "    <tr>\n",
       "      <th>1334</th>\n",
       "      <td>18</td>\n",
       "      <td>0</td>\n",
       "      <td>31.920</td>\n",
       "      <td>0</td>\n",
       "      <td>0</td>\n",
       "      <td>2205.98080</td>\n",
       "      <td>1</td>\n",
       "    </tr>\n",
       "    <tr>\n",
       "      <th>1335</th>\n",
       "      <td>18</td>\n",
       "      <td>0</td>\n",
       "      <td>36.850</td>\n",
       "      <td>0</td>\n",
       "      <td>0</td>\n",
       "      <td>1629.83350</td>\n",
       "      <td>1</td>\n",
       "    </tr>\n",
       "    <tr>\n",
       "      <th>1336</th>\n",
       "      <td>21</td>\n",
       "      <td>0</td>\n",
       "      <td>25.800</td>\n",
       "      <td>0</td>\n",
       "      <td>0</td>\n",
       "      <td>2007.94500</td>\n",
       "      <td>0</td>\n",
       "    </tr>\n",
       "  </tbody>\n",
       "</table>\n",
       "<p>992 rows × 7 columns</p>\n",
       "</div>"
      ],
      "text/plain": [
       "      age  sex     bmi  children  smoker      charges  insuranceclaim\n",
       "0      19    0  27.900         0       1  16884.92400               1\n",
       "1      18    1  33.770         1       0   1725.55230               1\n",
       "2      28    1  33.000         3       0   4449.46200               0\n",
       "3      33    1  22.705         0       0  21984.47061               0\n",
       "4      32    1  28.880         0       0   3866.85520               1\n",
       "...   ...  ...     ...       ...     ...          ...             ...\n",
       "1331   23    0  33.400         0       0  10795.93733               1\n",
       "1333   50    1  30.970         3       0  10600.54830               0\n",
       "1334   18    0  31.920         0       0   2205.98080               1\n",
       "1335   18    0  36.850         0       0   1629.83350               1\n",
       "1336   21    0  25.800         0       0   2007.94500               0\n",
       "\n",
       "[992 rows x 7 columns]"
      ]
     },
     "execution_count": 560,
     "metadata": {},
     "output_type": "execute_result"
    }
   ],
   "source": [
    "df"
   ]
  },
  {
   "cell_type": "code",
   "execution_count": 570,
   "id": "3db78939-c9dd-4b1e-9440-6eb9b3eee148",
   "metadata": {},
   "outputs": [],
   "source": [
    "x=df.drop(['charges','insuranceclaim'],axis=1)\n",
    "y= df['insuranceclaim']"
   ]
  },
  {
   "cell_type": "code",
   "execution_count": 572,
   "id": "d4f6358a-45a7-4f98-b1f9-7216d9c1c96f",
   "metadata": {},
   "outputs": [
    {
     "data": {
      "text/html": [
       "<div>\n",
       "<style scoped>\n",
       "    .dataframe tbody tr th:only-of-type {\n",
       "        vertical-align: middle;\n",
       "    }\n",
       "\n",
       "    .dataframe tbody tr th {\n",
       "        vertical-align: top;\n",
       "    }\n",
       "\n",
       "    .dataframe thead th {\n",
       "        text-align: right;\n",
       "    }\n",
       "</style>\n",
       "<table border=\"1\" class=\"dataframe\">\n",
       "  <thead>\n",
       "    <tr style=\"text-align: right;\">\n",
       "      <th></th>\n",
       "      <th>age</th>\n",
       "      <th>sex</th>\n",
       "      <th>bmi</th>\n",
       "      <th>children</th>\n",
       "      <th>smoker</th>\n",
       "    </tr>\n",
       "  </thead>\n",
       "  <tbody>\n",
       "    <tr>\n",
       "      <th>0</th>\n",
       "      <td>19</td>\n",
       "      <td>0</td>\n",
       "      <td>27.900</td>\n",
       "      <td>0</td>\n",
       "      <td>1</td>\n",
       "    </tr>\n",
       "    <tr>\n",
       "      <th>1</th>\n",
       "      <td>18</td>\n",
       "      <td>1</td>\n",
       "      <td>33.770</td>\n",
       "      <td>1</td>\n",
       "      <td>0</td>\n",
       "    </tr>\n",
       "    <tr>\n",
       "      <th>2</th>\n",
       "      <td>28</td>\n",
       "      <td>1</td>\n",
       "      <td>33.000</td>\n",
       "      <td>3</td>\n",
       "      <td>0</td>\n",
       "    </tr>\n",
       "    <tr>\n",
       "      <th>3</th>\n",
       "      <td>33</td>\n",
       "      <td>1</td>\n",
       "      <td>22.705</td>\n",
       "      <td>0</td>\n",
       "      <td>0</td>\n",
       "    </tr>\n",
       "    <tr>\n",
       "      <th>4</th>\n",
       "      <td>32</td>\n",
       "      <td>1</td>\n",
       "      <td>28.880</td>\n",
       "      <td>0</td>\n",
       "      <td>0</td>\n",
       "    </tr>\n",
       "    <tr>\n",
       "      <th>...</th>\n",
       "      <td>...</td>\n",
       "      <td>...</td>\n",
       "      <td>...</td>\n",
       "      <td>...</td>\n",
       "      <td>...</td>\n",
       "    </tr>\n",
       "    <tr>\n",
       "      <th>1331</th>\n",
       "      <td>23</td>\n",
       "      <td>0</td>\n",
       "      <td>33.400</td>\n",
       "      <td>0</td>\n",
       "      <td>0</td>\n",
       "    </tr>\n",
       "    <tr>\n",
       "      <th>1333</th>\n",
       "      <td>50</td>\n",
       "      <td>1</td>\n",
       "      <td>30.970</td>\n",
       "      <td>3</td>\n",
       "      <td>0</td>\n",
       "    </tr>\n",
       "    <tr>\n",
       "      <th>1334</th>\n",
       "      <td>18</td>\n",
       "      <td>0</td>\n",
       "      <td>31.920</td>\n",
       "      <td>0</td>\n",
       "      <td>0</td>\n",
       "    </tr>\n",
       "    <tr>\n",
       "      <th>1335</th>\n",
       "      <td>18</td>\n",
       "      <td>0</td>\n",
       "      <td>36.850</td>\n",
       "      <td>0</td>\n",
       "      <td>0</td>\n",
       "    </tr>\n",
       "    <tr>\n",
       "      <th>1336</th>\n",
       "      <td>21</td>\n",
       "      <td>0</td>\n",
       "      <td>25.800</td>\n",
       "      <td>0</td>\n",
       "      <td>0</td>\n",
       "    </tr>\n",
       "  </tbody>\n",
       "</table>\n",
       "<p>992 rows × 5 columns</p>\n",
       "</div>"
      ],
      "text/plain": [
       "      age  sex     bmi  children  smoker\n",
       "0      19    0  27.900         0       1\n",
       "1      18    1  33.770         1       0\n",
       "2      28    1  33.000         3       0\n",
       "3      33    1  22.705         0       0\n",
       "4      32    1  28.880         0       0\n",
       "...   ...  ...     ...       ...     ...\n",
       "1331   23    0  33.400         0       0\n",
       "1333   50    1  30.970         3       0\n",
       "1334   18    0  31.920         0       0\n",
       "1335   18    0  36.850         0       0\n",
       "1336   21    0  25.800         0       0\n",
       "\n",
       "[992 rows x 5 columns]"
      ]
     },
     "execution_count": 572,
     "metadata": {},
     "output_type": "execute_result"
    }
   ],
   "source": [
    "x"
   ]
  },
  {
   "cell_type": "code",
   "execution_count": 454,
   "id": "803a887b-a57a-464e-bc5e-ebb672f9ff16",
   "metadata": {},
   "outputs": [],
   "source": [
    "# Divide the dataset into a training set and testing set"
   ]
  },
  {
   "cell_type": "code",
   "execution_count": 574,
   "id": "64ea59e0-9472-4977-83d8-94ced255629e",
   "metadata": {},
   "outputs": [],
   "source": [
    "from sklearn.model_selection import train_test_split\n",
    "x_train, x_test, y_train, y_test = train_test_split(x, y, test_size = 0.2, random_state=42)"
   ]
  },
  {
   "cell_type": "code",
   "execution_count": 576,
   "id": "564b3197-277c-4897-8e47-39f0725d56c0",
   "metadata": {},
   "outputs": [
    {
     "data": {
      "text/plain": [
       "((793, 5), (199, 5), (793,), (199,))"
      ]
     },
     "execution_count": 576,
     "metadata": {},
     "output_type": "execute_result"
    }
   ],
   "source": [
    "x_train.shape, x_test.shape, y_train.shape, y_test.shape"
   ]
  },
  {
   "cell_type": "code",
   "execution_count": null,
   "id": "cb7490cf-7eb9-4927-ac86-8b03b53d5a46",
   "metadata": {},
   "outputs": [],
   "source": [
    "# Convert y_train and y_test for the insuranceclaim being binary"
   ]
  },
  {
   "cell_type": "code",
   "execution_count": 582,
   "id": "d1bd8493-8d6e-4fb7-ac8d-e132e4d2ad7f",
   "metadata": {},
   "outputs": [],
   "source": [
    "if len(y_train.shape) > 1 and y_train.shape[1] == 2:\n",
    "    y_train = y_train.iloc[:, 0] if hasattr(y_train, 'iloc') else y_train[:, 0]\n",
    "if len(y_test.shape) > 1 and y_test.shape[1] == 2:\n",
    "    y_test = y_test.iloc[:, 0] if hasattr(y_test, 'iloc') else y_test[:, 0]"
   ]
  },
  {
   "cell_type": "code",
   "execution_count": null,
   "id": "b1637102-95e2-4348-93b4-efb94675124b",
   "metadata": {},
   "outputs": [],
   "source": [
    "# Importing the models"
   ]
  },
  {
   "cell_type": "code",
   "execution_count": 584,
   "id": "3e2af16a-8fea-4b63-a9ae-98c1b4042823",
   "metadata": {},
   "outputs": [],
   "source": [
    "from sklearn.metrics import accuracy_score, precision_score, recall_score, f1_score, confusion_matrix\n",
    "from sklearn.linear_model import LogisticRegression\n",
    "from sklearn.tree import DecisionTreeClassifier\n",
    "from sklearn.ensemble import RandomForestClassifier\n",
    "from sklearn.svm import SVC\n",
    "from sklearn.neighbors import KNeighborsClassifier"
   ]
  },
  {
   "cell_type": "code",
   "execution_count": null,
   "id": "c32ea21c-8225-4ae4-ab56-563db08e9ef2",
   "metadata": {},
   "outputs": [],
   "source": [
    "# Define the models to evaluate"
   ]
  },
  {
   "cell_type": "code",
   "execution_count": 586,
   "id": "4f01d8c7-ecb3-47b9-b8a6-e6a4deeb14b6",
   "metadata": {},
   "outputs": [],
   "source": [
    "models = {\n",
    "    \"Logistic Regression\": LogisticRegression(),\n",
    "    \"Decision Tree\": DecisionTreeClassifier(),\n",
    "    \"Random Forest\": RandomForestClassifier(),\n",
    "    \"Support Vector Machine\": SVC(),\n",
    "    \"K-Nearest Neighbors\": KNeighborsClassifier()\n",
    "}"
   ]
  },
  {
   "cell_type": "code",
   "execution_count": 594,
   "id": "61ebf72e-0aed-4abe-9e08-91e4adfdb892",
   "metadata": {},
   "outputs": [],
   "source": [
    "results = {}"
   ]
  },
  {
   "cell_type": "code",
   "execution_count": null,
   "id": "f0f32f59-5972-4be3-b1bb-96125290d52d",
   "metadata": {},
   "outputs": [],
   "source": [
    "# Creating a for loop for all the  model evaluation"
   ]
  },
  {
   "cell_type": "code",
   "execution_count": 596,
   "id": "4bf01149-40cc-4814-af42-146bd09b7209",
   "metadata": {},
   "outputs": [],
   "source": [
    "for model_name, model in models.items():\n",
    "    # Fit the model\n",
    "    model.fit(x_train, y_train)\n",
    "    \n",
    "    # Predict on the test set\n",
    "    y_pred = model.predict(x_test)\n",
    "    \n",
    "    # Calculate metrics\n",
    "    accuracy = accuracy_score(y_test, y_pred)\n",
    "    precision = precision_score(y_test, y_pred, average='binary')\n",
    "    recall = recall_score(y_test, y_pred, average='binary')\n",
    "    f1 = f1_score(y_test, y_pred, average='binary')\n",
    "    conf_matrix = confusion_matrix(y_test, y_pred)\n",
    "    \n",
    "    # Store the results\n",
    "    results[model_name] = {\n",
    "        \"Accuracy\": accuracy,\n",
    "        \"Precision\": precision,\n",
    "        \"Recall\": recall,\n",
    "        \"F1 Score\": f1,\n",
    "        \"Confusion Matrix\": conf_matrix\n",
    "    }"
   ]
  },
  {
   "cell_type": "code",
   "execution_count": null,
   "id": "75cfbe39-bfbe-403a-a645-66b3757aa2fe",
   "metadata": {},
   "outputs": [],
   "source": [
    "# Results"
   ]
  },
  {
   "cell_type": "code",
   "execution_count": 600,
   "id": "54234800-9257-4aec-96cc-d0bfec40f8e4",
   "metadata": {},
   "outputs": [
    {
     "name": "stdout",
     "output_type": "stream",
     "text": [
      "\n",
      "Model: Logistic Regression\n",
      "Accuracy: 0.89\n",
      "Precision: 0.90\n",
      "Recall: 0.90\n",
      "F1 Score: 0.90\n",
      "Confusion Matrix:\n",
      "[[84 10]\n",
      " [11 94]]\n",
      "\n",
      "Model: Decision Tree\n",
      "Accuracy: 0.98\n",
      "Precision: 0.97\n",
      "Recall: 0.99\n",
      "F1 Score: 0.98\n",
      "Confusion Matrix:\n",
      "[[ 91   3]\n",
      " [  1 104]]\n",
      "\n",
      "Model: Random Forest\n",
      "Accuracy: 0.98\n",
      "Precision: 0.99\n",
      "Recall: 0.98\n",
      "F1 Score: 0.99\n",
      "Confusion Matrix:\n",
      "[[ 93   1]\n",
      " [  2 103]]\n",
      "\n",
      "Model: Support Vector Machine\n",
      "Accuracy: 0.77\n",
      "Precision: 0.80\n",
      "Recall: 0.76\n",
      "F1 Score: 0.78\n",
      "Confusion Matrix:\n",
      "[[74 20]\n",
      " [25 80]]\n",
      "\n",
      "Model: K-Nearest Neighbors\n",
      "Accuracy: 0.84\n",
      "Precision: 0.85\n",
      "Recall: 0.84\n",
      "F1 Score: 0.85\n",
      "Confusion Matrix:\n",
      "[[79 15]\n",
      " [17 88]]\n"
     ]
    }
   ],
   "source": [
    "for model_name, metrics in results.items():\n",
    "    print(f\"\\nModel: {model_name}\")\n",
    "    print(f\"Accuracy: {metrics['Accuracy']:.2f}\")\n",
    "    print(f\"Precision: {metrics['Precision']:.2f}\")\n",
    "    print(f\"Recall: {metrics['Recall']:.2f}\")\n",
    "    print(f\"F1 Score: {metrics['F1 Score']:.2f}\")\n",
    "    print(\"Confusion Matrix:\")\n",
    "    print(metrics['Confusion Matrix'])"
   ]
  },
  {
   "cell_type": "code",
   "execution_count": null,
   "id": "e1dcaba6-9627-4c47-84b2-186d0524a28e",
   "metadata": {},
   "outputs": [],
   "source": [
    "# Inconclusion the Random forest, decision tree, logistic regression models were the models with the highest level of accuracy and precision for predicting insurance claims "
   ]
  },
  {
   "cell_type": "code",
   "execution_count": null,
   "id": "eb591ea5-c804-4c37-aa06-466bec2d45f7",
   "metadata": {},
   "outputs": [],
   "source": []
  }
 ],
 "metadata": {
  "kernelspec": {
   "display_name": "Python 3 (ipykernel)",
   "language": "python",
   "name": "python3"
  },
  "language_info": {
   "codemirror_mode": {
    "name": "ipython",
    "version": 3
   },
   "file_extension": ".py",
   "mimetype": "text/x-python",
   "name": "python",
   "nbconvert_exporter": "python",
   "pygments_lexer": "ipython3",
   "version": "3.12.7"
  }
 },
 "nbformat": 4,
 "nbformat_minor": 5
}
